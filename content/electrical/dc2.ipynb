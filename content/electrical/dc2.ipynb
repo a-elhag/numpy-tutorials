{
 "cells": [
  {
   "cell_type": "markdown",
   "metadata": {
    "lines_to_next_cell": 0
   },
   "source": [
    "# Tutorial: Solve DC electric circuits using Numpy\n",
    "\n",
    "<img src=\"imgs/pikachu_greeting.png\"/>\n",
    "\n",
    "## Overview\n",
    "\n",
    "### What you'll do\n",
    "\n",
    "* Plot *Ohm's Law*\n",
    "* Find the value of resistance that ensures optimal power flow\n",
    "* Solve DC circuits using *mesh analysis*\n",
    "\n",
    "### What you'll learn\n",
    "\n",
    "* You'll learn how to create a NumPy array and manipulate it\n",
    "* You'll learn how to make simple plots out of NumPy arrays\n",
    "* You'll learn how to form matrices in NumPy\n",
    "* You'll learn how to perform simple linear algebra operations with these matrices\n",
    "\n",
    "### What you'll need\n",
    "* A \"can-do\" attitude\n",
    "* Basic electrical knowledge (Ohm's Law, KCL, KVL)\n",
    "* Basic linear algebra knowledge (Matrices, Inversion and Determinants)\n",
    "* Basic Python knowledge (know how to run code and import modules\n",
    "see xyz tutorial to review)\n",
    "* The Matplotlib package if you want to reproduce the plots (see xyz for how to install)\n",
    "\n",
    "## Part 1: Plotting Ohm's Law\n",
    "\n",
    "### Part 1a: Calculating Ohm's Law in pure python"
   ]
  },
  {
   "cell_type": "code",
   "execution_count": null,
   "metadata": {},
   "outputs": [],
   "source": [
    "R = 10 # Resistance\n",
    "V = 5 # Voltage\n",
    "I = V/R # Current\n",
    "print(f\"I = {I} A\")"
   ]
  },
  {
   "cell_type": "markdown",
   "metadata": {},
   "source": [
    "<img src=\"imgs/circuit1.png\" width=\"400\" height=\"200\"/>\n",
    "\n",
    "Solving for $I$ in *Figure 1* is a pretty trivial matter, it can be done in a few lines of code"
   ]
  },
  {
   "cell_type": "code",
   "execution_count": null,
   "metadata": {
    "lines_to_next_cell": 2
   },
   "outputs": [],
   "source": [
    "R = 10 # Resistance\n",
    "V = 5 # Voltage\n",
    "I = V/R # Current\n",
    "print(f\"I = {I} A\")"
   ]
  },
  {
   "cell_type": "markdown",
   "metadata": {},
   "source": [
    "### Part 1b: Generating voltages and currents in pure python\n",
    "\n",
    "<img src=\"imgs/circuit2.png\" width=\"400\" height=\"200\"/>\n",
    "\n",
    "Before a plot of Ohm's Law can be made, you first need to generate the voltages\n",
    "and currents \n"
   ]
  },
  {
   "cell_type": "code",
   "execution_count": null,
   "metadata": {},
   "outputs": [],
   "source": [
    "import numpy as np\n",
    "R = 10\n",
    "V = [] # Declaring V to be an empty list\n",
    "\n",
    "for i in range(-5, 6): # Assigning V numbers from -5 to 5\n",
    "\tV.append(i)\n",
    "\n",
    "I = [] # Declaring I to be an empty list\n",
    "\n",
    "for voltage in V: # Calculating I for all values of V\n",
    "\tI.append(voltage/R)\n",
    "\n",
    "print(f\"Voltages (V): {V}\")\n",
    "print(f\"Current (A): {I}\")"
   ]
  },
  {
   "cell_type": "markdown",
   "metadata": {},
   "source": [
    "There are a two issues with what was done above:\n",
    "1. It is **inefficient**. You want to avoid running *for loops* in Python because\n",
    "they make the code run slower. In this simple example it won't make much of a difference\n",
    "but with larger and more complex code it well.\n",
    "2. It is **unpythonic**. The code above works but is not clear and maintainable.\n",
    "\n",
    "> Challenge 1: How would you make a list of voltages that have a decimal point \n",
    "> (V = [-5, -4.9, -4.8 ...])\n",
    "\n",
    "> Challenge 2: Try to optimize the code further by removing one of the `for-loops`\n",
    "\n",
    "### Part 1c: Generating voltages and currents using numpy\n",
    "\n",
    "Let's see how to repeat what was done in the previous section using numpy. Using\n",
    "the method `np.linspace` to create a `numpy.ndarray` you can specify the:\n",
    "\n",
    "1. Starting value of the array\n",
    "2. Ending value of the array\n",
    "3. The number of points between the starting and ending\n",
    "\n",
    "> Note: Check out the official numpy reference on the function\n",
    "> [numpy.linspace](https://numpy.org/doc/stable/reference/generated/numpy.linspace.html)\n",
    "> to learn more"
   ]
  },
  {
   "cell_type": "code",
   "execution_count": null,
   "metadata": {},
   "outputs": [],
   "source": [
    "R = 10\n",
    "V = np.linspace(-5, 5, 11)\n",
    "\n",
    "print(f\"Voltage (V): {V}\")\n",
    "print(f\"Length of V: {V.shape}\")\n",
    "print(f\"Type of V: {type(V)}\")\n",
    "\n",
    "I = V/R\n",
    "\n",
    "print(f\"Current (A): {I}\")\n",
    "print(f\"Length of I: {I.shape}\")\n",
    "print(f\"Type of I: {type(I)}\")"
   ]
  },
  {
   "cell_type": "markdown",
   "metadata": {},
   "source": [
    "### Part 1d: Plotting using matplotlib\n",
    "\n",
    "Use the library `matplotlib` to plot $V$ and $I$.\n",
    "\n",
    "> Note: Check out the \n",
    "> [introductory](https://matplotlib.org/3.1.1/tutorials/introductory/pyplot.html)\n",
    "> tutorial on matplotlib's pyplot interface to learn more"
   ]
  },
  {
   "cell_type": "code",
   "execution_count": null,
   "metadata": {
    "lines_to_next_cell": 0
   },
   "outputs": [],
   "source": [
    "import matplotlib.pyplot as plt\n",
    "plt.plot(V, I)\n",
    "plt.show() # Run this command if the plot doesn't show"
   ]
  },
  {
   "cell_type": "code",
   "execution_count": null,
   "metadata": {},
   "outputs": [],
   "source": [
    "plt.clf() # Clear the plot if there was anything on it\n",
    "plt.plot(V, I)\n",
    "plt.xlabel('Voltage (V)') # x-axis label\n",
    "plt.ylabel('Current (A)') # y-axis label\n",
    "plt.title('Ohms Law')\n",
    "plt.grid()"
   ]
  },
  {
   "cell_type": "markdown",
   "metadata": {},
   "source": [
    "## Part 2: Finding the conditions for maximum power transfer\n",
    "\n",
    "### Part 2a: Plotting maximum power transfer\n",
    "\n",
    "<img src=\"imgs/circuit3.png\" width=\"400\" height=\"200\"/>\n",
    "\n",
    "Electrical engineers claim that maximum power transfer will occur when Rload ==\n",
    "Rth. Write python code using NumPy arrays to test this."
   ]
  },
  {
   "cell_type": "code",
   "execution_count": null,
   "metadata": {},
   "outputs": [],
   "source": [
    "V = 8\n",
    "Rth = 5\n",
    "\n",
    "Rload = np.linspace(0.1, 50, 20)\n",
    "Iload = V/(Rth + Rload) # Element wise division\n",
    "Vload = Iload * Rload # Element wise multiplication\n",
    "Pload = Iload * Vload\n",
    "\n",
    "plt.plot(Rload, Pload)"
   ]
  },
  {
   "cell_type": "markdown",
   "metadata": {},
   "source": [
    "> Challenge: Try using voltage division to calculate `Pload` directly\n",
    "> (ie without needing to calculate `Iload`)\n",
    "\n",
    "### Part 2b: Using numpy to find Rload\n",
    "\n",
    "Looking at the plot, it does seem that when `Rload = Rth` there is maximum power\n",
    "transfer. But it is not 100% clear. Use numpy to find the exact value of `Rload`\n",
    "that makes `Pload` maximum\n"
   ]
  },
  {
   "cell_type": "code",
   "execution_count": null,
   "metadata": {},
   "outputs": [],
   "source": [
    "Pmax = np.max(Pload) # Finding the maximum value of Pload\n",
    "print(f\"Pmax = {Pmax}\")\n",
    "\n",
    "Pmax_idx = np.argmax(Pload) # Finding the index in which Pload is maximum\n",
    "print(f\"Pmax_idx = {Pmax_idx}\")\n",
    "\n",
    "Rload[Pmax_idx]\n",
    "print(f\"Rload[Pmax_idx] = {Rload[Pmax_idx]}\")"
   ]
  },
  {
   "cell_type": "markdown",
   "metadata": {},
   "source": [
    "> Challenge: Why is the value of `Rload` not exactly 5? How would you\n",
    "> increase the accuracy?\n",
    "\n",
    "## Part 3: Solving circuits using mesh analysis\n",
    "\n",
    "### Part 3a: 2x2 Mesh Matrix\n",
    "\n",
    "<img src=\"imgs/circuit4.png\" height=\"200\" width=\"400\"/>\n",
    "\n",
    "Doing a mesh analysis on *Figure 4* yields *two linear equations*:"
   ]
  },
  {
   "cell_type": "markdown",
   "metadata": {},
   "source": [
    "\\begin{equation*}\n",
    "I_1 (R_1 + R_2) + I_2(-R_2) = V_1 \\\\\n",
    "I_1 (-R_2) + I_2(R_2 + R_3) = V_2\n",
    "\\end{equation*}\n",
    "\n",
    "These two equations can be written in *matrix format* and inputted into NumPy:\n",
    "\n",
    "\\begin{equation*}\n",
    "\\begin{bmatrix} R1+R2 & -R2 \\\\ -R2 & R2+R3 \\end{bmatrix} \n",
    "* \n",
    "\\begin{bmatrix} I1 \\\\ I2  \\end{bmatrix}\n",
    "=\n",
    "\\begin{bmatrix} V1 \\\\ -V2  \\end{bmatrix}\n",
    "\\end{equation*}\n",
    "\n",
    "> Note: Check out Wikipedia's articles on \n",
    "> [mesh analysis](https://www.electronics-tutorials.ws/dccircuits/dcp_5.html),\n",
    "> [linear equations](https://en.wikipedia.org/wiki/System_of_linear_equations), \n",
    "> and [matrices](https://en.wikipedia.org/wiki/Matrix_(mathematics))\n",
    "> if you would like to revise the concepts presented here\n"
   ]
  },
  {
   "cell_type": "code",
   "execution_count": null,
   "metadata": {},
   "outputs": [],
   "source": [
    "R1 = 10\n",
    "R2 = 5\n",
    "R3 = 5\n",
    "V1 = 5\n",
    "V2 = -15\n",
    "\n",
    "a11 = R1+R2\n",
    "a12 = -R2\n",
    "a21 = -R2\n",
    "a22 = R2+R3\n",
    "\n",
    "b1 = V1\n",
    "b2 = -V2\n",
    "\n",
    "A = np.array([[a11, a12],\n",
    "              [a21, a22]])\n",
    "\n",
    "b = np.array([[b1], [b2]])\n",
    "\n",
    "print(A)\n",
    "print(b)"
   ]
  },
  {
   "cell_type": "markdown",
   "metadata": {},
   "source": [
    "If solving the matrix using pencil and paper, you would first invert $A$ and\n",
    "then multiply it by $b$.\n",
    "\n",
    "\\begin{equation*}\n",
    "\\begin{bmatrix} I1 \\\\ I2  \\end{bmatrix} \n",
    "= \n",
    "\\begin{bmatrix} R1+R2 & -R2 \\\\ -R2 & R2+R3 \\end{bmatrix}^{-1} \n",
    "* \n",
    "\\begin{bmatrix} V1 \\\\ -V2  \\end{bmatrix}\n",
    "\\end{equation*}"
   ]
  },
  {
   "cell_type": "code",
   "execution_count": null,
   "metadata": {
    "lines_to_next_cell": 2
   },
   "outputs": [],
   "source": [
    "Ainv = np.linalg.inv(A)\n",
    "print(Ainv)\n",
    "\n",
    "x = Ainv @ b # The @ operator multiplies two matrices\n",
    "print(x)"
   ]
  },
  {
   "cell_type": "markdown",
   "metadata": {},
   "source": [
    "<img src=\"imgs/pikachu_angry.jpg\"  width=\"500\"/>\n",
    "\n",
    "**NEVER** invert your matrices if you are programming on a computer (except if\n",
    "you actually need the inverted matrix itself, which is rare). The process is\n",
    "very sensitive to scaling, propagates numerical errors and will make **Pikachu**\n",
    "angry! Instead use the `np.linalg.solve` function.\n",
    "\n",
    "> Note 1: If you want to learn more about the complications arising from matrix inversion,\n",
    "> check out this\n",
    "> (article)[https://www.johndcook.com/blog/2010/01/19/dont-invert-that-matrix/]\n",
    "> talking about it's harms. And check out this\n",
    "> (paper)[http://www.netlib.org/lapack/lawnspdf/lawn27.pdf] if you want a full\n",
    "> mathematical explanation."
   ]
  },
  {
   "cell_type": "markdown",
   "metadata": {},
   "source": [
    "> Note 2: Check out the numpy reference\n",
    "> [np.linalg](https://numpy.org/doc/stable/reference/routines.linalg.html) to\n",
    "> learn more about the linear algebra functions available"
   ]
  },
  {
   "cell_type": "code",
   "execution_count": null,
   "metadata": {},
   "outputs": [],
   "source": [
    "x = np.linalg.solve(A, b)\n",
    "print(x)"
   ]
  },
  {
   "cell_type": "markdown",
   "metadata": {},
   "source": [
    "### Part 3b: 3x3 Mesh Matrix\n",
    "\n",
    "<img src=\"imgs/circuit5.png\" width=\"500\" height=\"250\"/>\n",
    "\n",
    "Repeat the same process that was done before. The only difference is that this\n",
    "time you will end up with a `3x3` matrix"
   ]
  },
  {
   "cell_type": "markdown",
   "metadata": {},
   "source": [
    "\\begin{equation*}\n",
    "\\begin{bmatrix} \n",
    "R1+R2+R3 & -R2 & -R3\\\\ -R2 & R2+R4 & -R4 \\\\ -R3 & -R4 & R3+R4 \n",
    "\\end{bmatrix}\n",
    "*\n",
    "\\begin{bmatrix} \n",
    "I1 \\\\ I2 \\\\ I3\n",
    "\\end{bmatrix}\n",
    "=\n",
    "\\begin{bmatrix} \n",
    "0 \\\\ V1 \\\\ -V2\n",
    "\\end{bmatrix}\n",
    "\\end{equation*}"
   ]
  },
  {
   "cell_type": "code",
   "execution_count": null,
   "metadata": {},
   "outputs": [],
   "source": [
    "R1 = 90\n",
    "R2 = 30\n",
    "R3 = 30\n",
    "R4 = 5\n",
    "V1 = 25\n",
    "V2 = -65\n",
    "\n",
    "a11 = R1 + R2 + R3\n",
    "a12 = -R2\n",
    "a13 = -R3\n",
    "a21 = -R2\n",
    "a22 = R2+R4\n",
    "a23 = -R4\n",
    "a31 = -R3\n",
    "a32 = -R4\n",
    "a33 = R3+R4\n",
    "\n",
    "b1 = 0\n",
    "b2 = V1\n",
    "b3 = -V2\n",
    "\n",
    "A = np.array([[a11, a12, a13],\n",
    "              [a21, a22, a23],\n",
    "              [a31, a32, a33]])\n",
    "\n",
    "b = np.array([[b1], [b2], [b3]])\n",
    "\n",
    "x = np.linalg.solve(A, b)\n",
    "print(x)"
   ]
  },
  {
   "cell_type": "markdown",
   "metadata": {},
   "source": [
    "### Part 3c: 3x3 Mesh Matrix with a mistake\n",
    "\n",
    "<img src=\"imgs/circuit6.png\" width=\"500\" height=\"300\"/>\n",
    "\n",
    "For this last circuit, let us purposely make a mistake. Instead of taking a loop\n",
    "through $R1$, let's take it through `Loop 1` instead. Thereby missing vital\n",
    "information.\n",
    "\n",
    "\\begin{equation*}\n",
    "\\begin{bmatrix} \n",
    "-R2-R3 & +R2 & +R3\\\\ -R2 & R2+R4 & -R4 \\\\ -R3 & -R4 & R3+R4 \n",
    "\\end{bmatrix}\n",
    "*\n",
    "\\begin{bmatrix} \n",
    "I1 \\\\ I2 \\\\ I3\n",
    "\\end{bmatrix}\n",
    "=\n",
    "\\begin{bmatrix} \n",
    "V1-V2 \\\\ V1 \\\\ -V2\n",
    "\\end{bmatrix}\n",
    "\\end{equation*}\n"
   ]
  },
  {
   "cell_type": "code",
   "execution_count": null,
   "metadata": {
    "lines_to_next_cell": 0
   },
   "outputs": [],
   "source": [
    "R1 = 90\n",
    "R2 = 30\n",
    "R3 = 30\n",
    "R4 = 5\n",
    "V1 = 25\n",
    "V2 = -65\n",
    "\n",
    "a11 = -R2 - R3\n",
    "a12 = +R2\n",
    "a13 = +R3\n",
    "a21 = -R2\n",
    "a22 = R2+R4\n",
    "a23 = -R4\n",
    "a31 = -R3\n",
    "a32 = -R4\n",
    "a33 = R3+R4\n",
    "\n",
    "b1 = V1-V2\n",
    "b2 = V1\n",
    "b3 = -V2\n",
    "\n",
    "A = np.array([[a11, a12, a13],\n",
    "              [a21, a22, a23],\n",
    "              [a31, a32, a33]])\n",
    "\n",
    "b = np.array([[b1], [b2], [b3]])"
   ]
  },
  {
   "cell_type": "code",
   "execution_count": null,
   "metadata": {},
   "outputs": [],
   "source": [
    "# x = np.linalg.solve(A, b)\n",
    "# print(x)"
   ]
  },
  {
   "cell_type": "markdown",
   "metadata": {},
   "source": [
    "When you run it, you will get this as an output:\n",
    "\n",
    "```\n",
    "LinAlgError                               Traceback (most recent call last)\n",
    "<ipython3-input-2-c441d734ff80> in <module>\n",
    "     26 b = np.array([[b1], [b2], [b3]])\n",
    "     27\n",
    "---> 28 x = np.linalg.solve(A, b)\n",
    "     29 print(x)\n",
    "\n",
    "<__array_function__ internals> in solve(*args, **kwargs)\n",
    "\n",
    "~/Documents/venv_global/lib/python3.8/site-packages/numpy/linalg/linalg.py in solve(a, b)\n",
    "    397     signature = 'DD->D' if isComplexType(t) else 'dd->d'\n",
    "    398     extobj = get_linalg_error_extobj(_raise_linalgerror_singular)\n",
    "--> 399     r = gufunc(a, b, signature=signature, extobj=extobj)\n",
    "    400\n",
    "    401     return wrap(r.astype(result_t, copy=False))\n",
    "\n",
    "~/Documents/venv_global/lib/python3.8/site-packages/numpy/linalg/linalg.py in _raise_lina\n",
    "lgerror_singular(err, flag)\n",
    "     95\n",
    "     96 def _raise_linalgerror_singular(err, flag):\n",
    "---> 97     raise LinAlgError(\"Singular matrix\")\n",
    "     98\n",
    "     99 def _raise_linalgerror_nonposdef(err, flag):\n",
    "\n",
    "LinAlgError: Singular matrix\n",
    "```\n",
    "\n",
    "<img src=\"imgs/pikachu_surprised.jpg\" width=\"400\"/>\n",
    "\n",
    "An error, how unexpected!\n",
    "\n",
    "As a programmer you need to get used to reading error outputs. Looking at the\n",
    "last line it says that there is a `Singular Matrix` error.  This happened\n",
    "because the rows of the $A$ matrix are linearly dependent, $Row1 = Row2 + Row3$."
   ]
  },
  {
   "cell_type": "markdown",
   "metadata": {},
   "source": [
    "\\begin{equation*}\n",
    "A =\n",
    "\\begin{bmatrix} \n",
    "-R2-R3 & +R2 & +R3\\\\ -R2 & R2+R4 & -R4 \\\\ -R3 & -R4 & R3+R4 \n",
    "\\end{bmatrix}\n",
    "\\end{equation*}\n",
    "\n",
    "This can be easily confirmed by taking the determinant of $A$:\n",
    "\n",
    "```\n",
    "Det = np.linalg.det(A)\n",
    "```\n",
    "\n",
    "## Conclusion\n",
    "\n",
    "### On your own\n",
    "\n",
    "* Try doing a nodal analysis.\n",
    "* Try to catch a Pikachu, you can find him in Viridian Forest.\n",
    "\n",
    "### In practice...\n",
    "\n",
    "The python code written in `Part 1b` can indeed be written without any\n",
    "`for-loops` (use `range` to set the value of $V$)\n",
    "\n",
    "### Further reading\n",
    "\n",
    "* https://numpy.org/doc/stable/user/\n"
   ]
  }
 ],
 "metadata": {
  "jupytext": {
   "main_language": "python"
  },
  "kernelspec": {
   "display_name": "",
   "name": ""
  },
  "language_info": {
   "codemirror_mode": {
    "name": "ipython",
    "version": 3
   },
   "file_extension": ".py",
   "mimetype": "text/x-python",
   "name": "python",
   "nbconvert_exporter": "python",
   "pygments_lexer": "ipython3",
   "version": "3.8.5"
  }
 },
 "nbformat": 4,
 "nbformat_minor": 4
}
